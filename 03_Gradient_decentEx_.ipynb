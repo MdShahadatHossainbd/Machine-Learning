{
  "nbformat": 4,
  "nbformat_minor": 0,
  "metadata": {
    "colab": {
      "name": "03 Gradient decentEx .ipynb",
      "provenance": [],
      "authorship_tag": "ABX9TyM/bV4UnbiRPlulWgc+yR7q",
      "include_colab_link": true
    },
    "kernelspec": {
      "name": "python3",
      "display_name": "Python 3"
    }
  },
  "cells": [
    {
      "cell_type": "markdown",
      "metadata": {
        "id": "view-in-github",
        "colab_type": "text"
      },
      "source": [
        "<a href=\"https://colab.research.google.com/github/MdShahadatHossainbd/Machine-Learning/blob/main/03_Gradient_decentEx_.ipynb\" target=\"_parent\"><img src=\"https://colab.research.google.com/assets/colab-badge.svg\" alt=\"Open In Colab\"/></a>"
      ]
    },
    {
      "cell_type": "code",
      "metadata": {
        "id": "EZEBbrdI6uoN"
      },
      "source": [
        "import numpy as np\n",
        "\n",
        "class GradientDescentLinearRegression:\n",
        "    def __init__(self, learning_rate=0.01, iterations=1000):\n",
        "        self.learning_rate, self.iterations = learning_rate, iterations\n",
        "    \n",
        "    def fit(self, X, y):\n",
        "        b = 0\n",
        "        m = 5\n",
        "        n = X.shape[0]\n",
        "        for _ in range(self.iterations):\n",
        "            b_gradient = -2 * np.sum(y - m*X + b) / n\n",
        "            m_gradient = -2 * np.sum(X*(y - (m*X + b))) / n\n",
        "            b = b + (self.learning_rate * b_gradient)\n",
        "            m = m - (self.learning_rate * m_gradient)\n",
        "        self.m, self.b = m, b\n",
        "        \n",
        "    def predict(self, X):\n",
        "        return self.m*X + self.b"
      ],
      "execution_count": 1,
      "outputs": []
    },
    {
      "cell_type": "code",
      "metadata": {
        "id": "stDrLipS61gs"
      },
      "source": [
        "np.random.seed(42)\n",
        "X = np.array(sorted(list(range(5))*20)) + np.random.normal(size=100, scale=0.5)\n",
        "y = np.array(sorted(list(range(5))*20)) + np.random.normal(size=100, scale=0.25)"
      ],
      "execution_count": 2,
      "outputs": []
    },
    {
      "cell_type": "code",
      "metadata": {
        "colab": {
          "base_uri": "https://localhost:8080/",
          "height": 322
        },
        "id": "i4vtiNOh63LL",
        "outputId": "c9aebd53-2bd7-442b-ce68-d8f27dba1205"
      },
      "source": [
        "clf = GradientDescentLinearRegression()\n",
        "clf.fit(X, y)\n",
        "\n",
        "import matplotlib.pyplot as plt\n",
        "plt.style.use('fivethirtyeight')\n",
        "\n",
        "plt.scatter(X, y, color='black')\n",
        "plt.plot(X, clf.predict(X))\n",
        "plt.gca().set_title(\"Gradient Descent Linear Regressor\")"
      ],
      "execution_count": 3,
      "outputs": [
        {
          "output_type": "execute_result",
          "data": {
            "text/plain": [
              "Text(0.5, 1.0, 'Gradient Descent Linear Regressor')"
            ]
          },
          "metadata": {
            "tags": []
          },
          "execution_count": 3
        },
        {
          "output_type": "display_data",
          "data": {
            "image/png": "[encoded data removed]",
            "text/plain": [
              "<Figure size 432x288 with 1 Axes>"
            ]
          },
          "metadata": {
            "tags": []
          }
        }
      ]
    },
    {
      "cell_type": "code",
      "metadata": {
        "colab": {
          "base_uri": "https://localhost:8080/"
        },
        "id": "EVz1QTv769CX",
        "outputId": "1b4f7814-9ebe-49d7-9d79-bcf2b64b5dd6"
      },
      "source": [
        "clf.b"
      ],
      "execution_count": 4,
      "outputs": [
        {
          "output_type": "execute_result",
          "data": {
            "text/plain": [
              "-0.06737711529735597"
            ]
          },
          "metadata": {
            "tags": []
          },
          "execution_count": 4
        }
      ]
    },
    {
      "cell_type": "code",
      "metadata": {
        "colab": {
          "base_uri": "https://localhost:8080/"
        },
        "id": "GvTp7war7CAf",
        "outputId": "340290f9-fd9f-4431-e30c-b167a099d13b"
      },
      "source": [
        "clf.m"
      ],
      "execution_count": 7,
      "outputs": [
        {
          "output_type": "execute_result",
          "data": {
            "text/plain": [
              "0.99492950681644"
            ]
          },
          "metadata": {
            "tags": []
          },
          "execution_count": 7
        }
      ]
    }
  ]
}